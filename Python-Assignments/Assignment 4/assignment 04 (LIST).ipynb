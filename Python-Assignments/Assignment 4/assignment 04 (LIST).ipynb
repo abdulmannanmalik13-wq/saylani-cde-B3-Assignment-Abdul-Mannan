{
 "cells": [
  {
   "cell_type": "markdown",
   "id": "0450895a-0b32-4be6-84de-ebd50932c26b",
   "metadata": {},
   "source": [
    "### assignment 04 (list)"
   ]
  },
  {
   "cell_type": "markdown",
   "id": "87234603-5094-4010-ac33-d2117427347a",
   "metadata": {},
   "source": [
    "1. Write a program that accepts a list from user and print the alternate element of list. "
   ]
  },
  {
   "cell_type": "code",
   "execution_count": 2,
   "id": "675c7e15-d566-4c12-8964-999766a05d24",
   "metadata": {},
   "outputs": [
    {
     "name": "stdin",
     "output_type": "stream",
     "text": [
      "Enter list elements separated by spaces:  hi my name is abdul mannan\n"
     ]
    },
    {
     "name": "stdout",
     "output_type": "stream",
     "text": [
      "Alternate elements of your list are:\n",
      "['hi', 'name', 'abdul']\n"
     ]
    }
   ],
   "source": [
    "# Ask the user to enter elements separated by spaces\n",
    "user_input = input(\"Enter list elements separated by spaces: \")\n",
    "\n",
    "# Convert the input string into a list\n",
    "user_list = user_input.split()\n",
    "\n",
    "# Prepare an empty list to store alternate elements\n",
    "alternate_elements = []\n",
    "\n",
    "# Loop over the list, stepping by 2 to get alternate items\n",
    "for i in range(0, len(user_list), 2):\n",
    "    alternate_elements.append(user_list[i])\n",
    "\n",
    "# Print the list of alternate elements\n",
    "print(\"Alternate elements of your list are:\")\n",
    "print(alternate_elements)"
   ]
  },
  {
   "cell_type": "markdown",
   "id": "2a5396de-b462-45ce-940b-bb2e7581b21d",
   "metadata": {},
   "source": [
    "2. Write a program that accepts a list from user. Your program should reverse the content of list and \n",
    "display it. Do not use reverse() method"
   ]
  },
  {
   "cell_type": "code",
   "execution_count": 3,
   "id": "e5f4cbbb-222d-4bfc-a566-d5f145f3b91c",
   "metadata": {},
   "outputs": [
    {
     "name": "stdin",
     "output_type": "stream",
     "text": [
      "Enter list elements separated by spaces:  the weather is good today\n"
     ]
    },
    {
     "name": "stdout",
     "output_type": "stream",
     "text": [
      "Here is your list in reverse order:\n",
      "['today', 'good', 'is', 'weather', 'the']\n"
     ]
    }
   ],
   "source": [
    "# Ask the user to enter some items separated by spaces\n",
    "items = input(\"Enter list elements separated by spaces: \")\n",
    "\n",
    "# Turn the input string into a list\n",
    "items_list = items.split()\n",
    "\n",
    "# Create an empty list to hold the reversed items\n",
    "reversed_list = []\n",
    "\n",
    "# Loop through the original list backwards and add each item to reversed_list\n",
    "index = len(items_list) - 1\n",
    "while index >= 0:\n",
    "    reversed_list.append(items_list[index])\n",
    "    index -= 1\n",
    "\n",
    "# Show the reversed list to the user\n",
    "print(\"Here is your list in reverse order:\")\n",
    "print(reversed_list)"
   ]
  },
  {
   "cell_type": "markdown",
   "id": "6ed7d895-40f1-4f69-8675-54f132b05965",
   "metadata": {},
   "source": [
    "3. Find and display the largest number of a list without using built-in function max(). Your program \n",
    "should ask the user to input values in list from keyboard.  "
   ]
  },
  {
   "cell_type": "code",
   "execution_count": 5,
   "id": "fd577175-8e03-4d65-b06d-7b9f795ca346",
   "metadata": {},
   "outputs": [
    {
     "name": "stdin",
     "output_type": "stream",
     "text": [
      "Enter numbers separated by spaces:  2 3 4 6 8\n"
     ]
    }
   ],
   "source": [
    "# Ask the user to enter numbers separated by spaces\n",
    "user_input = input(\"Enter numbers separated by spaces: \")\n",
    "\n",
    "# Convert the input into a list of numbers (as integers)\n",
    "number_strings = user_input.split()\n",
    "numbers = []\n",
    "\n",
    "# Convert each item from string to integer\n",
    "for item in number_strings:\n",
    "    numbers.append(int(item))"
   ]
  },
  {
   "cell_type": "markdown",
   "id": "5626d333-71ed-4416-9a3b-a91bd042dde6",
   "metadata": {},
   "source": [
    "4. Write a program that rotates the element of a list so that the element at the first index moves to the \n",
    "second index, the element in the second index moves to the third index, etc., and the element in the last \n",
    "index moves to the first index"
   ]
  },
  {
   "cell_type": "code",
   "execution_count": 8,
   "id": "f7f09244-228b-4b65-9ea4-47171732a5a3",
   "metadata": {},
   "outputs": [
    {
     "name": "stdin",
     "output_type": "stream",
     "text": [
      "Enter numbers separated by spaces:  123 45 67 98 0 \n"
     ]
    },
    {
     "name": "stdout",
     "output_type": "stream",
     "text": [
      "The largest number in the list is: 123\n"
     ]
    }
   ],
   "source": [
    "# Ask the user to enter numbers separated by spaces\n",
    "user_input = input(\"Enter numbers separated by spaces: \")\n",
    "\n",
    "# Split the input into a list of strings\n",
    "input_list = user_input.split()\n",
    "\n",
    "# Create a new list to store numbers as integers\n",
    "number_list = []\n",
    "\n",
    "# Convert each string in the list to an integer\n",
    "for item in input_list:\n",
    "    number_list.append(int(item))\n",
    "\n",
    "# Assume the first number is the largest\n",
    "largest = number_list[0]\n",
    "\n",
    "# Loop through the list to find the actual largest number\n",
    "for number in number_list:\n",
    "    if number > largest:\n",
    "        largest = number\n",
    "\n",
    "# Display the result\n",
    "print(\"The largest number in the list is:\", largest)"
   ]
  },
  {
   "cell_type": "markdown",
   "id": "1faa51ff-65a4-4500-9bb8-528553b43238",
   "metadata": {},
   "source": [
    "5. Write a program that input a string and ask user to delete a given word from a string"
   ]
  },
  {
   "cell_type": "code",
   "execution_count": 9,
   "id": "c991c11b-e04a-44ff-8212-f0dc7b012b71",
   "metadata": {},
   "outputs": [
    {
     "name": "stdin",
     "output_type": "stream",
     "text": [
      "Enter a sentence:  thwe wind is very fast today\n",
      "Enter the word you want to delete from the sentence:  very\n"
     ]
    },
    {
     "name": "stdout",
     "output_type": "stream",
     "text": [
      "The sentence after deleting the word is:\n",
      "thwe wind is fast today\n"
     ]
    }
   ],
   "source": [
    "# Ask the user to enter a sentence\n",
    "input_sentence = input(\"Enter a sentence: \")\n",
    "\n",
    "# Ask the user for the word they want to remove\n",
    "word_to_remove = input(\"Enter the word you want to delete from the sentence: \")\n",
    "\n",
    "# Split the sentence into words\n",
    "original_words = input_sentence.split()\n",
    "\n",
    "# Create a new list to hold the final words\n",
    "filtered_words = []\n",
    "\n",
    "# Go through each word and only keep the ones that are not the word to remove\n",
    "for current_word in original_words:\n",
    "    if current_word != word_to_remove:\n",
    "        filtered_words.append(current_word)\n",
    "\n",
    "# Join the filtered words back into a sentence\n",
    "final_sentence = ' '.join(filtered_words)\n",
    "\n",
    "# Show the updated sentence\n",
    "print(\"The sentence after deleting the word is:\")\n",
    "print(final_sentence)\n"
   ]
  },
  {
   "cell_type": "markdown",
   "id": "8ba68243-9358-4d7a-92b0-27a8c1c797dd",
   "metadata": {},
   "source": [
    "6. Write a program that reads a string from the user containing a date in the form mm/dd/yyyy. It \n",
    "should print the date in the form March 12, 2021."
   ]
  },
  {
   "cell_type": "code",
   "execution_count": 16,
   "id": "2564518d-d596-41e8-ac9a-40dcfc688707",
   "metadata": {},
   "outputs": [
    {
     "name": "stdin",
     "output_type": "stream",
     "text": [
      "Enter a date (mm/dd/yyyy):  09/13/2007\n"
     ]
    },
    {
     "name": "stdout",
     "output_type": "stream",
     "text": [
      "Formatted date:\n",
      "September 13, 2007\n"
     ]
    }
   ],
   "source": [
    "# Step 1: Ask the user to enter a date in mm/dd/yyyy format\n",
    "user_date_input = input(\"Enter a date (mm/dd/yyyy): \")\n",
    "\n",
    "# Step 2: Split the input into parts using '/' as the separator\n",
    "split_date_parts = user_date_input.split('/')\n",
    "\n",
    "# Step 3: Check if we have exactly 3 parts (month, day, year)\n",
    "if len(split_date_parts) == 3:\n",
    "    # Step 4: Extract individual parts\n",
    "    input_month_string = split_date_parts[0]\n",
    "    input_day_string = split_date_parts[1]\n",
    "    input_year_string = split_date_parts[2]\n",
    "\n",
    "    # Step 5: Convert month string to an integer (safe conversion)\n",
    "    if input_month_string.isdigit() and input_day_string.isdigit():\n",
    "        input_month_number = int(input_month_string)\n",
    "        output_day_number = int(input_day_string)\n",
    "\n",
    "        # Step 6: Month name list (index matches month number)\n",
    "        list_of_month_names = [\n",
    "            \"\", \"January\", \"February\", \"March\", \"April\", \"May\", \"June\",\n",
    "            \"July\", \"August\", \"September\", \"October\", \"November\", \"December\"\n",
    "        ]\n",
    "\n",
    "        # Step 7: Check for valid month range\n",
    "        if 1 <= input_month_number <= 12:\n",
    "            output_month_name = list_of_month_names[input_month_number]\n",
    "\n",
    "            # Step 8: Format and display the final output\n",
    "            formatted_date_string = output_month_name + \" \" + str(output_day_number) + \", \" + input_year_string\n",
    "            print(\"Formatted date:\")\n",
    "            print(formatted_date_string)\n",
    "        else:\n",
    "            print(\"Invalid month number. Please enter a month between 01 and 12.\")\n",
    "    else:\n",
    "        print(\"Invalid day or month. Please enter numbers like 08/24/2025.\")\n",
    "else:\n",
    "    print(\"Invalid format. Please enter the date in mm/dd/yyyy format.\")"
   ]
  },
  {
   "cell_type": "markdown",
   "id": "a06db773-0d32-4b84-a176-1b4acdd02f07",
   "metadata": {},
   "source": [
    "7. Write a program with a function that accepts a string from keyboard and create a new string after \n",
    "converting character of each word capitalized. For instance, if the sentence is \"stop and smell the roses.\" \n",
    "the output should be \"Stop And Smell The Roses\""
   ]
  },
  {
   "cell_type": "code",
   "execution_count": 17,
   "id": "2953c02b-7eaf-4f7e-a2a0-3c755d4e7031",
   "metadata": {},
   "outputs": [
    {
     "name": "stdin",
     "output_type": "stream",
     "text": [
      "Enter a sentence:  stop and smell the roses\n"
     ]
    },
    {
     "name": "stdout",
     "output_type": "stream",
     "text": [
      "Output: Stop And Smell The Roses\n"
     ]
    }
   ],
   "source": [
    "def capitalize_each_word(input_sentence):\n",
    "    # Split the sentence into words\n",
    "    sentence_words = input_sentence.split()\n",
    "    \n",
    "    # List to hold the capitalized words\n",
    "    capitalized_words_list = []\n",
    "    \n",
    "    # Loop through each word and capitalize the first letter\n",
    "    for word in sentence_words:\n",
    "        # Capitalize the first letter of each word\n",
    "        capitalized_word = word.capitalize()\n",
    "        \n",
    "        # Add the capitalized word to the list\n",
    "        capitalized_words_list.append(capitalized_word)\n",
    "    \n",
    "    # Join all the words back into a sentence\n",
    "    output_sentence = ' '.join(capitalized_words_list)\n",
    "    \n",
    "    return output_sentence\n",
    "\n",
    "# Ask the user for a sentence\n",
    "input_sentence_from_user = input(\"Enter a sentence: \")\n",
    "\n",
    "# Call the function with the input sentence\n",
    "capitalized_sentence_output = capitalize_each_word(input_sentence_from_user)\n",
    "\n",
    "# Display the result\n",
    "print(\"Output:\", capitalized_sentence_output)"
   ]
  },
  {
   "cell_type": "markdown",
   "id": "0579c4d1-0743-495c-b355-5e9082ce5261",
   "metadata": {},
   "source": [
    "8. Find the sum of each row of matrix of size m x n. For example for the following matrix output will be \n",
    "like this : \n",
    "Sum of row 1 = 32 \n",
    "Sum of row 2 = 31 \n",
    "Sum of row 3 = 63 "
   ]
  },
  {
   "cell_type": "code",
   "execution_count": 18,
   "id": "888e45f1-79bf-4441-99ec-065125f799f4",
   "metadata": {},
   "outputs": [
    {
     "name": "stdin",
     "output_type": "stream",
     "text": [
      "Enter the number of rows (m):  3\n",
      "Enter the number of columns (n):  3\n",
      "Enter the elements of row 1 separated by spaces:  1 3 6\n",
      "Enter the elements of row 2 separated by spaces:  2 4 7\n",
      "Enter the elements of row 3 separated by spaces:  4 2 5\n"
     ]
    },
    {
     "name": "stdout",
     "output_type": "stream",
     "text": [
      "Sum of row 1 = 10\n",
      "Sum of row 2 = 13\n",
      "Sum of row 3 = 11\n"
     ]
    }
   ],
   "source": [
    "def sum_of_each_row(matrix):\n",
    "    # Loop through each row\n",
    "    for row_index in range(len(matrix)):\n",
    "        row_sum = 0  # Initialize the sum for the current row\n",
    "        # Add all elements in the current row to row_sum\n",
    "        for element in matrix[row_index]:\n",
    "            row_sum += element\n",
    "        # Print the sum of the current row\n",
    "        print(f\"Sum of row {row_index + 1} = {row_sum}\")\n",
    "\n",
    "# Get the dimensions of the matrix (rows and columns)\n",
    "m = int(input(\"Enter the number of rows (m): \"))\n",
    "n = int(input(\"Enter the number of columns (n): \"))\n",
    "\n",
    "# Initialize an empty matrix list\n",
    "matrix_input = []\n",
    "\n",
    "# Input each row of the matrix\n",
    "for row_index in range(m):\n",
    "    row_input = list(map(int, input(f\"Enter the elements of row {row_index + 1} separated by spaces: \").split()))\n",
    "    matrix_input.append(row_input)\n",
    "\n",
    "# Call the function to calculate and print the sum of each row\n",
    "sum_of_each_row(matrix_input)"
   ]
  },
  {
   "cell_type": "markdown",
   "id": "94e1d1ca-0ec1-4309-9706-bc196ba272bd",
   "metadata": {},
   "source": [
    "9. Write a program to add two matrices of size n x m."
   ]
  },
  {
   "cell_type": "code",
   "execution_count": 23,
   "id": "895c75c7-7ecf-497e-9749-23004e11bd61",
   "metadata": {},
   "outputs": [
    {
     "name": "stdin",
     "output_type": "stream",
     "text": [
      "Enter the number of rows (n):  3\n",
      "Enter the number of columns (m):  3\n"
     ]
    },
    {
     "name": "stdout",
     "output_type": "stream",
     "text": [
      "Enter elements for the first matrix (3 x 3):\n"
     ]
    },
    {
     "name": "stdin",
     "output_type": "stream",
     "text": [
      "Enter the elements for row 1:  23 44 11\n",
      "Enter the elements for row 2:  31 45 13\n",
      "Enter the elements for row 3:  64 34 25\n"
     ]
    },
    {
     "name": "stdout",
     "output_type": "stream",
     "text": [
      "Enter elements for the second matrix (3 x 3):\n"
     ]
    },
    {
     "name": "stdin",
     "output_type": "stream",
     "text": [
      "Enter the elements for row 1:  12 51 71\n",
      "Enter the elements for row 2:  31 76 45\n",
      "Enter the elements for row 3:  26 36 76\n"
     ]
    },
    {
     "name": "stdout",
     "output_type": "stream",
     "text": [
      "\n",
      "Resulting Matrix after Addition:\n",
      "35 95 82\n",
      "62 121 58\n",
      "90 70 101\n"
     ]
    }
   ],
   "source": [
    "def add_matrices(first_matrix, second_matrix, rows, cols):\n",
    "    # Create an empty result matrix to store the sum\n",
    "    result_matrix = []\n",
    "    \n",
    "    # Loop through each row\n",
    "    for row_index in range(rows):\n",
    "        # Create an empty row for storing the sum of elements in this row\n",
    "        result_row = []\n",
    "        \n",
    "        # Loop through each column in the row\n",
    "        for col_index in range(cols):\n",
    "            # Sum corresponding elements from both matrices\n",
    "            sum_of_elements = first_matrix[row_index][col_index] + second_matrix[row_index][col_index]\n",
    "            \n",
    "            # Add the sum to the result row\n",
    "            result_row.append(sum_of_elements)\n",
    "        \n",
    "        # After calculating the sum of elements in the row, add the row to the result matrix\n",
    "        result_matrix.append(result_row)\n",
    "    \n",
    "    # Display the result matrix\n",
    "    print(\"\\nResulting Matrix after Addition:\")\n",
    "    for row in result_matrix:\n",
    "        print(\" \".join(map(str, row)))\n",
    "\n",
    "# Ask the user for the number of rows and columns for the matrices\n",
    "rows = int(input(\"Enter the number of rows (n): \"))\n",
    "cols = int(input(\"Enter the number of columns (m): \"))\n",
    "\n",
    "# Create two empty matrices for user input\n",
    "first_matrix = []\n",
    "second_matrix = []\n",
    "\n",
    "# Input elements for the first matrix\n",
    "print(f\"Enter elements for the first matrix ({rows} x {cols}):\")\n",
    "for row in range(rows):\n",
    "    row_values = list(map(int, input(f\"Enter the elements for row {row + 1}: \").split()))\n",
    "    first_matrix.append(row_values)\n",
    "\n",
    "# Input elements for the second matrix\n",
    "print(f\"Enter elements for the second matrix ({rows} x {cols}):\")\n",
    "for row in range(rows):\n",
    "    row_values = list(map(int, input(f\"Enter the elements for row {row + 1}: \").split()))\n",
    "    second_matrix.append(row_values)\n",
    "\n",
    "# Call the function to add the two matrices and print the result\n",
    "add_matrices(first_matrix, second_matrix, rows, cols)\n"
   ]
  },
  {
   "cell_type": "markdown",
   "id": "3eb04d6d-8dba-4065-aa2c-2bde1903803d",
   "metadata": {},
   "source": [
    "10. Write a program to multiply two matrices "
   ]
  },
  {
   "cell_type": "code",
   "execution_count": 25,
   "id": "fcdae41a-bee4-4313-a705-d40ca0c62804",
   "metadata": {},
   "outputs": [
    {
     "name": "stdin",
     "output_type": "stream",
     "text": [
      "Enter the number of rows for the first matrix:  3\n",
      "Enter the number of columns for the first matrix:  3\n",
      "Enter the number of rows for the second matrix:  3\n",
      "Enter the number of columns for the second matrix:  3\n"
     ]
    },
    {
     "name": "stdout",
     "output_type": "stream",
     "text": [
      "Enter elements for the first matrix (3 x 3):\n"
     ]
    },
    {
     "name": "stdin",
     "output_type": "stream",
     "text": [
      "Enter row 1:  23 45 67\n",
      "Enter row 2:  31 42 53\n",
      "Enter row 3:  13 56 89\n"
     ]
    },
    {
     "name": "stdout",
     "output_type": "stream",
     "text": [
      "Enter elements for the second matrix (3 x 3):\n"
     ]
    },
    {
     "name": "stdin",
     "output_type": "stream",
     "text": [
      "Enter row 1:  24 68 90\n",
      "Enter row 2:  13 46 79\n",
      "Enter row 3:  23 45 67\n"
     ]
    },
    {
     "name": "stdout",
     "output_type": "stream",
     "text": [
      "\n",
      "Resulting Matrix after Multiplication:\n",
      "2678 6649 10114\n",
      "2509 6425 9659\n",
      "3087 7465 11557\n"
     ]
    }
   ],
   "source": [
    "def multiply_matrices(first_matrix, second_matrix, rows1, cols1, rows2, cols2):\n",
    "    # Initialize an empty matrix for storing the result\n",
    "    result_matrix = [[0] * cols2 for _ in range(rows1)]\n",
    "\n",
    "    # Multiply matrices element by element\n",
    "    for i in range(rows1):\n",
    "        for j in range(cols2):\n",
    "            # Calculate the element at position (i, j) in the result matrix\n",
    "            for k in range(cols1):\n",
    "                result_matrix[i][j] += first_matrix[i][k] * second_matrix[k][j]\n",
    "\n",
    "    # Print the result matrix\n",
    "    print(\"\\nResulting Matrix after Multiplication:\")\n",
    "    for row in result_matrix:\n",
    "        print(\" \".join(map(str, row)))\n",
    "\n",
    "# Get matrix dimensions\n",
    "rows1 = int(input(\"Enter the number of rows for the first matrix: \"))\n",
    "cols1 = int(input(\"Enter the number of columns for the first matrix: \"))\n",
    "rows2 = int(input(\"Enter the number of rows for the second matrix: \"))\n",
    "cols2 = int(input(\"Enter the number of columns for the second matrix: \"))\n",
    "\n",
    "# Check if multiplication is possible\n",
    "if cols1 != rows2:\n",
    "    print(\"Error: Matrix multiplication not possible. The number of columns in the first matrix must be equal to the number of rows in the second matrix.\")\n",
    "else:\n",
    "    # Input first matrix\n",
    "    first_matrix = []\n",
    "    print(f\"Enter elements for the first matrix ({rows1} x {cols1}):\")\n",
    "    for i in range(rows1):\n",
    "        row = list(map(int, input(f\"Enter row {i + 1}: \").split()))\n",
    "        first_matrix.append(row)\n",
    "\n",
    "    # Input second matrix\n",
    "    second_matrix = []\n",
    "    print(f\"Enter elements for the second matrix ({rows2} x {cols2}):\")\n",
    "    for i in range(rows2):\n",
    "        row = list(map(int, input(f\"Enter row {i + 1}: \").split()))\n",
    "        second_matrix.append(row)\n",
    "\n",
    "    # Perform the multiplication\n",
    "    multiply_matrices(first_matrix, second_matrix, rows1, cols1, rows2, cols2)"
   ]
  },
  {
   "cell_type": "code",
   "execution_count": null,
   "id": "70473f52-c461-4522-a744-d2482745a2dc",
   "metadata": {},
   "outputs": [],
   "source": []
  }
 ],
 "metadata": {
  "kernelspec": {
   "display_name": "Python 3 (ipykernel)",
   "language": "python",
   "name": "python3"
  },
  "language_info": {
   "codemirror_mode": {
    "name": "ipython",
    "version": 3
   },
   "file_extension": ".py",
   "mimetype": "text/x-python",
   "name": "python",
   "nbconvert_exporter": "python",
   "pygments_lexer": "ipython3",
   "version": "3.13.5"
  }
 },
 "nbformat": 4,
 "nbformat_minor": 5
}
