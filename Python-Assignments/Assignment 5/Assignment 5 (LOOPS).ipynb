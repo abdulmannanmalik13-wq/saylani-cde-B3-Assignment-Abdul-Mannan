{
 "cells": [
  {
   "cell_type": "markdown",
   "id": "e6f25182-3ce5-4bdf-8bfb-d1eb2a0d4d61",
   "metadata": {},
   "source": [
    "### Assignment 5 (LOOPS)"
   ]
  },
  {
   "cell_type": "markdown",
   "id": "9b5ad698-7be7-487d-947e-a5e36fd460ff",
   "metadata": {},
   "source": [
    "1. Write a Python program to print the numbers from 1 to 10 using a for loop."
   ]
  },
  {
   "cell_type": "code",
   "execution_count": 1,
   "id": "18119308-26f5-4044-a9b7-c8993bbf049f",
   "metadata": {},
   "outputs": [
    {
     "name": "stdout",
     "output_type": "stream",
     "text": [
      "1\n",
      "2\n",
      "3\n",
      "4\n",
      "5\n",
      "6\n",
      "7\n",
      "8\n",
      "9\n",
      "10\n"
     ]
    }
   ],
   "source": [
    "# Print numbers from 1 to 10 using a for loop\n",
    "\n",
    "for i in range(1, 11):\n",
    "    print(i)"
   ]
  },
  {
   "cell_type": "markdown",
   "id": "1c0f392a-debc-4f05-a5e0-ec042a12ebc4",
   "metadata": {},
   "source": [
    "2. Write a Python program to print the numbers from 20 to 1 using a while loop. "
   ]
  },
  {
   "cell_type": "code",
   "execution_count": 2,
   "id": "af73303b-8874-4b4c-8cd3-54a4a11d1a57",
   "metadata": {},
   "outputs": [
    {
     "name": "stdout",
     "output_type": "stream",
     "text": [
      "20\n",
      "19\n",
      "18\n",
      "17\n",
      "16\n",
      "15\n",
      "14\n",
      "13\n",
      "12\n",
      "11\n",
      "10\n",
      "9\n",
      "8\n",
      "7\n",
      "6\n",
      "5\n",
      "4\n",
      "3\n",
      "2\n",
      "1\n"
     ]
    }
   ],
   "source": [
    "# Print numbers from 20 down to 1 using a while loop\n",
    "\n",
    "num = 20\n",
    "while num >= 1:\n",
    "    print(num)\n",
    "    num -= 1"
   ]
  },
  {
   "cell_type": "markdown",
   "id": "a04add68-9d7b-48ad-ba4b-08eb143fa4a5",
   "metadata": {},
   "source": [
    "3. Write a program to print even numbers from 1 to 10."
   ]
  },
  {
   "cell_type": "code",
   "execution_count": 3,
   "id": "92a768ca-4901-477b-a865-329d521290c6",
   "metadata": {},
   "outputs": [
    {
     "name": "stdout",
     "output_type": "stream",
     "text": [
      "2\n",
      "4\n",
      "6\n",
      "8\n",
      "10\n"
     ]
    }
   ],
   "source": [
    "for i in range(1, 11):\n",
    "    if i % 2 == 0:\n",
    "        print(i)"
   ]
  },
  {
   "cell_type": "markdown",
   "id": "f2877208-6d2d-4b00-a2fe-373ad5bd367f",
   "metadata": {},
   "source": [
    "4. Write a program that prompts the user to enter a number n and prints all the \n",
    "numbers from 1 to n. "
   ]
  },
  {
   "cell_type": "code",
   "execution_count": 4,
   "id": "e780625c-4179-4afd-9631-f37b13444ccc",
   "metadata": {},
   "outputs": [
    {
     "name": "stdin",
     "output_type": "stream",
     "text": [
      "Enter a number:  23\n"
     ]
    },
    {
     "name": "stdout",
     "output_type": "stream",
     "text": [
      "1\n",
      "2\n",
      "3\n",
      "4\n",
      "5\n",
      "6\n",
      "7\n",
      "8\n",
      "9\n",
      "10\n",
      "11\n",
      "12\n",
      "13\n",
      "14\n",
      "15\n",
      "16\n",
      "17\n",
      "18\n",
      "19\n",
      "20\n",
      "21\n",
      "22\n",
      "23\n"
     ]
    }
   ],
   "source": [
    "# Program to print numbers from 1 to n\n",
    "\n",
    "n = int(input(\"Enter a number: \"))\n",
    "\n",
    "for i in range(1, n + 1):\n",
    "    print(i)"
   ]
  },
  {
   "cell_type": "markdown",
   "id": "62992484-c626-4a1e-be45-c611bd5c2f7e",
   "metadata": {},
   "source": [
    "5. Write a program that prompts the user to enter a number n, and then prints all the \n",
    "odd numbers between 1 and n.  "
   ]
  },
  {
   "cell_type": "code",
   "execution_count": 5,
   "id": "cc220d0b-2a30-415e-9836-57cf2ee2f939",
   "metadata": {},
   "outputs": [
    {
     "name": "stdin",
     "output_type": "stream",
     "text": [
      "Enter a number:  50\n"
     ]
    },
    {
     "name": "stdout",
     "output_type": "stream",
     "text": [
      "1\n",
      "3\n",
      "5\n",
      "7\n",
      "9\n",
      "11\n",
      "13\n",
      "15\n",
      "17\n",
      "19\n",
      "21\n",
      "23\n",
      "25\n",
      "27\n",
      "29\n",
      "31\n",
      "33\n",
      "35\n",
      "37\n",
      "39\n",
      "41\n",
      "43\n",
      "45\n",
      "47\n",
      "49\n"
     ]
    }
   ],
   "source": [
    "# Program to print odd numbers from 1 to n\n",
    "\n",
    "n = int(input(\"Enter a number: \"))\n",
    "\n",
    "for i in range(1, n + 1):\n",
    "    if i % 2 != 0:   # check if odd\n",
    "        print(i)"
   ]
  },
  {
   "cell_type": "markdown",
   "id": "7d98716a-eb1b-461b-801d-18856675026d",
   "metadata": {},
   "source": [
    "6. Write a program that prints 'Happy Birthday!' five times on screen. "
   ]
  },
  {
   "cell_type": "code",
   "execution_count": 7,
   "id": "cba83776-3139-47ec-8306-171375f8d924",
   "metadata": {},
   "outputs": [
    {
     "name": "stdout",
     "output_type": "stream",
     "text": [
      "Happy Birthday Mannan Malik\n",
      "Happy Birthday Mannan Malik\n",
      "Happy Birthday Mannan Malik\n",
      "Happy Birthday Mannan Malik\n",
      "Happy Birthday Mannan Malik\n"
     ]
    }
   ],
   "source": [
    "# Print \"Happy Birthday!\" five times\n",
    "\n",
    "for i in range(5):\n",
    "    print(\"Happy Birthday Mannan Malik\")"
   ]
  },
  {
   "cell_type": "markdown",
   "id": "ff055fa8-1286-446e-b855-68f57928f72c",
   "metadata": {},
   "source": [
    "7. Write a program that takes a number n as input from the user and generates the first \n",
    "n terms of the series formed by squaring the natural numbers.\n",
    " \n",
    "Sample output \n",
    "Enter a number: 6 \n",
    "The first 6 terms of the series are: \n",
    "1 4 9 16 25 36 "
   ]
  },
  {
   "cell_type": "code",
   "execution_count": 8,
   "id": "3754af6c-a2b3-4d3a-883f-c4f286abe8df",
   "metadata": {},
   "outputs": [
    {
     "name": "stdin",
     "output_type": "stream",
     "text": [
      "Enter a number:  25\n"
     ]
    },
    {
     "name": "stdout",
     "output_type": "stream",
     "text": [
      "\n",
      "The first 25 terms of the series are:\n",
      "1 4 9 16 25 36 49 64 81 100 121 144 169 196 225 256 289 324 361 400 441 484 529 576 625 "
     ]
    }
   ],
   "source": [
    "# Program to generate the first n terms of the square series\n",
    "\n",
    "n = int(input(\"Enter a number: \"))\n",
    "\n",
    "print(f\"\\nThe first {n} terms of the series are:\")\n",
    "\n",
    "for i in range(1, n + 1):\n",
    "    print(i ** 2, end=\" \")"
   ]
  },
  {
   "cell_type": "markdown",
   "id": "b9ef745a-0069-41d6-871e-b8cce9dbcb69",
   "metadata": {},
   "source": [
    "8. Write a program that prompts the user to input a number and prints its multiplication \n",
    "table. "
   ]
  },
  {
   "cell_type": "code",
   "execution_count": 9,
   "id": "4cd6f620-001a-4bbd-a2c0-0da0589a1cc9",
   "metadata": {},
   "outputs": [
    {
     "name": "stdin",
     "output_type": "stream",
     "text": [
      "Enter a number:  10\n"
     ]
    },
    {
     "name": "stdout",
     "output_type": "stream",
     "text": [
      "\n",
      "Multiplication Table of 10:\n",
      "10 x 1 = 10\n",
      "10 x 2 = 20\n",
      "10 x 3 = 30\n",
      "10 x 4 = 40\n",
      "10 x 5 = 50\n",
      "10 x 6 = 60\n",
      "10 x 7 = 70\n",
      "10 x 8 = 80\n",
      "10 x 9 = 90\n",
      "10 x 10 = 100\n"
     ]
    }
   ],
   "source": [
    "# Program to print the multiplication table of a number\n",
    "\n",
    "n = int(input(\"Enter a number: \"))\n",
    "\n",
    "print(f\"\\nMultiplication Table of {n}:\")\n",
    "\n",
    "for i in range(1, 11):\n",
    "    print(f\"{n} x {i} = {n * i}\")"
   ]
  },
  {
   "cell_type": "markdown",
   "id": "232de6fa-b24e-4396-a40b-5c2ef9bf5f40",
   "metadata": {},
   "source": [
    "9. Write a Python program to print the first 8 terms of an arithmetic progression starting \n",
    "with 3 and having a common difference of 4. \n",
    "The program should output the following sequence: \n",
    "3 7 11 15 19 23 27 31  "
   ]
  },
  {
   "cell_type": "code",
   "execution_count": 10,
   "id": "4ce88dc7-8299-4128-9b6c-b3e1f767c17c",
   "metadata": {},
   "outputs": [
    {
     "name": "stdout",
     "output_type": "stream",
     "text": [
      "The first 8 terms of the arithmetic progression are:\n",
      "3 7 11 15 19 23 27 31 "
     ]
    }
   ],
   "source": [
    "# Program to print the first 8 terms of an arithmetic progression\n",
    "# Starting term = 3, Common difference = 4\n",
    "\n",
    "first_term = 3\n",
    "difference = 4\n",
    "\n",
    "print(\"The first 8 terms of the arithmetic progression are:\")\n",
    "\n",
    "for i in range(8):\n",
    "    term = first_term + i * difference\n",
    "    print(term, end=\" \")"
   ]
  },
  {
   "cell_type": "markdown",
   "id": "90b6f636-d1f6-469b-9c48-465f5f04ed98",
   "metadata": {},
   "source": [
    "10. Write a Python program to print the first 6 terms of a geometric sequence starting \n",
    "with 2 and having a common ratio of 3. \n",
    "The program should output the following sequence: \n",
    "2 6 18 54 162 486 "
   ]
  },
  {
   "cell_type": "code",
   "execution_count": 11,
   "id": "a48486ea-3550-4a4f-99a7-da38ac3eb81a",
   "metadata": {},
   "outputs": [
    {
     "name": "stdout",
     "output_type": "stream",
     "text": [
      "The first 6 terms of the geometric sequence are:\n",
      "2 6 18 54 162 486 "
     ]
    }
   ],
   "source": [
    "# Program to print the first 6 terms of a geometric sequence\n",
    "# Starting term = 2, Common ratio = 3\n",
    "\n",
    "first_term = 2\n",
    "ratio = 3\n",
    "\n",
    "print(\"The first 6 terms of the geometric sequence are:\")\n",
    "\n",
    "for i in range(6):\n",
    "    term = first_term * (ratio ** i)\n",
    "    print(term, end=\" \")"
   ]
  },
  {
   "cell_type": "markdown",
   "id": "e4dec684-8a08-4905-bff9-7ba267c07df8",
   "metadata": {},
   "source": [
    "11. Write a program that asks the user for a positive integer value. The program should \n",
    "calculate the sum of all the integers from 1 up to the number entered. For example, if \n",
    "the user enters 20, the loop will find the sum of 1, 2, 3, 4, ... 20.   "
   ]
  },
  {
   "cell_type": "code",
   "execution_count": 12,
   "id": "0e75d4cb-5226-4e26-80c7-42f44884bb83",
   "metadata": {},
   "outputs": [
    {
     "name": "stdin",
     "output_type": "stream",
     "text": [
      "Enter a positive integer:  18\n"
     ]
    },
    {
     "name": "stdout",
     "output_type": "stream",
     "text": [
      "\n",
      "The sum of numbers from 1 to 18 is: 171\n"
     ]
    }
   ],
   "source": [
    "# Program to calculate the sum of integers from 1 to n\n",
    "\n",
    "n = int(input(\"Enter a positive integer: \"))\n",
    "\n",
    "total = 0\n",
    "for i in range(1, n + 1):\n",
    "    total += i\n",
    "\n",
    "print(f\"\\nThe sum of numbers from 1 to {n} is: {total}\")"
   ]
  },
  {
   "cell_type": "markdown",
   "id": "4c69755e-48b7-4e6d-ac4c-e3cd8eac2cbe",
   "metadata": {},
   "source": [
    "12. write a program that takes a positive integer N as input and calculates the sum of \n",
    "the reciprocals of all numbers from 1 up to N. The program should display the final sum. "
   ]
  },
  {
   "cell_type": "code",
   "execution_count": 13,
   "id": "27758e63-579b-47df-a63d-d3acddf6a995",
   "metadata": {},
   "outputs": [
    {
     "name": "stdin",
     "output_type": "stream",
     "text": [
      "Enter a positive integer:  18\n"
     ]
    },
    {
     "name": "stdout",
     "output_type": "stream",
     "text": [
      "\n",
      "The sum of reciprocals from 1 to 18 is: 3.4951080781963135\n"
     ]
    }
   ],
   "source": [
    "# Program to calculate the sum of reciprocals from 1 to N\n",
    "\n",
    "N = int(input(\"Enter a positive integer: \"))\n",
    "\n",
    "total = 0\n",
    "for i in range(1, N + 1):\n",
    "    total += 1 / i\n",
    "\n",
    "print(f\"\\nThe sum of reciprocals from 1 to {N} is: {total}\")"
   ]
  }
 ],
 "metadata": {
  "kernelspec": {
   "display_name": "Python 3 (ipykernel)",
   "language": "python",
   "name": "python3"
  },
  "language_info": {
   "codemirror_mode": {
    "name": "ipython",
    "version": 3
   },
   "file_extension": ".py",
   "mimetype": "text/x-python",
   "name": "python",
   "nbconvert_exporter": "python",
   "pygments_lexer": "ipython3",
   "version": "3.13.5"
  }
 },
 "nbformat": 4,
 "nbformat_minor": 5
}
